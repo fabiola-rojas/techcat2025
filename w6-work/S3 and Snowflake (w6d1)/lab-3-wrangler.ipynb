{
 "cells": [
  {
   "cell_type": "markdown",
   "id": "b304ae87",
   "metadata": {},
   "source": [
    "## Lab 3: Introduction to AWS Wrangler"
   ]
  },
  {
   "cell_type": "markdown",
   "id": "c6dc5308",
   "metadata": {},
   "source": [
    "#### Load Credentials"
   ]
  },
  {
   "cell_type": "code",
   "execution_count": 1,
   "id": "68566c68",
   "metadata": {},
   "outputs": [
    {
     "data": {
      "text/plain": [
       "True"
      ]
     },
     "execution_count": 1,
     "metadata": {},
     "output_type": "execute_result"
    }
   ],
   "source": [
    "# load your credentials\n",
    "from dotenv import load_dotenv\n",
    "load_dotenv()"
   ]
  },
  {
   "cell_type": "code",
   "execution_count": 2,
   "id": "b7064aca",
   "metadata": {},
   "outputs": [],
   "source": [
    "# import awswrangler\n",
    "import awswrangler as wr"
   ]
  },
  {
   "cell_type": "markdown",
   "id": "5ee70861",
   "metadata": {},
   "source": [
    "#### Making sure it works"
   ]
  },
  {
   "cell_type": "code",
   "execution_count": 3,
   "id": "bfe81c2e",
   "metadata": {},
   "outputs": [
    {
     "data": {
      "text/html": [
       "<div>\n",
       "<style scoped>\n",
       "    .dataframe tbody tr th:only-of-type {\n",
       "        vertical-align: middle;\n",
       "    }\n",
       "\n",
       "    .dataframe tbody tr th {\n",
       "        vertical-align: top;\n",
       "    }\n",
       "\n",
       "    .dataframe thead th {\n",
       "        text-align: right;\n",
       "    }\n",
       "</style>\n",
       "<table border=\"1\" class=\"dataframe\">\n",
       "  <thead>\n",
       "    <tr style=\"text-align: right;\">\n",
       "      <th></th>\n",
       "      <th>Date</th>\n",
       "      <th>Open</th>\n",
       "      <th>High</th>\n",
       "      <th>Low</th>\n",
       "      <th>Close</th>\n",
       "      <th>Volume</th>\n",
       "    </tr>\n",
       "  </thead>\n",
       "  <tbody>\n",
       "    <tr>\n",
       "      <th>0</th>\n",
       "      <td>1/2/2025 16:00:00</td>\n",
       "      <td>191.49</td>\n",
       "      <td>193.20</td>\n",
       "      <td>188.71</td>\n",
       "      <td>190.63</td>\n",
       "      <td>17545162</td>\n",
       "    </tr>\n",
       "    <tr>\n",
       "      <th>1</th>\n",
       "      <td>1/3/2025 16:00:00</td>\n",
       "      <td>192.73</td>\n",
       "      <td>194.50</td>\n",
       "      <td>191.35</td>\n",
       "      <td>193.13</td>\n",
       "      <td>12874957</td>\n",
       "    </tr>\n",
       "    <tr>\n",
       "      <th>2</th>\n",
       "      <td>1/6/2025 16:00:00</td>\n",
       "      <td>195.15</td>\n",
       "      <td>199.56</td>\n",
       "      <td>195.06</td>\n",
       "      <td>197.96</td>\n",
       "      <td>19483323</td>\n",
       "    </tr>\n",
       "    <tr>\n",
       "      <th>3</th>\n",
       "      <td>1/7/2025 16:00:00</td>\n",
       "      <td>198.27</td>\n",
       "      <td>202.14</td>\n",
       "      <td>195.94</td>\n",
       "      <td>196.71</td>\n",
       "      <td>16966760</td>\n",
       "    </tr>\n",
       "    <tr>\n",
       "      <th>4</th>\n",
       "      <td>1/8/2025 16:00:00</td>\n",
       "      <td>193.95</td>\n",
       "      <td>197.64</td>\n",
       "      <td>193.75</td>\n",
       "      <td>195.39</td>\n",
       "      <td>14335341</td>\n",
       "    </tr>\n",
       "  </tbody>\n",
       "</table>\n",
       "</div>"
      ],
      "text/plain": [
       "                Date    Open    High     Low   Close    Volume\n",
       "0  1/2/2025 16:00:00  191.49  193.20  188.71  190.63  17545162\n",
       "1  1/3/2025 16:00:00  192.73  194.50  191.35  193.13  12874957\n",
       "2  1/6/2025 16:00:00  195.15  199.56  195.06  197.96  19483323\n",
       "3  1/7/2025 16:00:00  198.27  202.14  195.94  196.71  16966760\n",
       "4  1/8/2025 16:00:00  193.95  197.64  193.75  195.39  14335341"
      ]
     },
     "execution_count": 3,
     "metadata": {},
     "output_type": "execute_result"
    }
   ],
   "source": [
    "# test if you can read from a private bucket\n",
    "\n",
    "df = wr.s3.read_csv('s3://techcatalyst-raw/stocks/GOOG.csv')\n",
    "df.head()"
   ]
  },
  {
   "cell_type": "code",
   "execution_count": 4,
   "id": "55f41095",
   "metadata": {},
   "outputs": [
    {
     "name": "stdout",
     "output_type": "stream",
     "text": [
      "<class 'pandas.core.frame.DataFrame'>\n",
      "RangeIndex: 140 entries, 0 to 139\n",
      "Data columns (total 6 columns):\n",
      " #   Column  Non-Null Count  Dtype  \n",
      "---  ------  --------------  -----  \n",
      " 0   Date    140 non-null    object \n",
      " 1   Open    140 non-null    float64\n",
      " 2   High    140 non-null    float64\n",
      " 3   Low     140 non-null    float64\n",
      " 4   Close   140 non-null    float64\n",
      " 5   Volume  140 non-null    int64  \n",
      "dtypes: float64(4), int64(1), object(1)\n",
      "memory usage: 6.7+ KB\n"
     ]
    }
   ],
   "source": [
    "# the returned object is actually a pandas DataFrame\n",
    "df.info()"
   ]
  },
  {
   "cell_type": "markdown",
   "id": "8151cd36",
   "metadata": {},
   "source": [
    "#### Inspect Glue databases"
   ]
  },
  {
   "cell_type": "code",
   "execution_count": 5,
   "id": "48e0bfb3",
   "metadata": {},
   "outputs": [
    {
     "name": "stdout",
     "output_type": "stream",
     "text": [
      "               Database       Description\n",
      "0             aamnah_db                  \n",
      "1           aamnah_taxi                  \n",
      "2             alexia_db                  \n",
      "3           alexia_logs                  \n",
      "4           alexia_song                  \n",
      "5      awswrangler_test                  \n",
      "6                ben_db                  \n",
      "7              ben_song                  \n",
      "8              ben_taxi                  \n",
      "9            blake_taxi                  \n",
      "10          blake_wr_db                  \n",
      "11              db_name                  \n",
      "12              default  default database\n",
      "13              emma_db                  \n",
      "14            emma_taxi                  \n",
      "15           fabiola_db                  \n",
      "16         fabiola_taxi                  \n",
      "17           jaden_taxi                  \n",
      "18        jadenastle_db                  \n",
      "19           melissa_db                  \n",
      "20         melissa_logs                  \n",
      "21        melissa_songs                  \n",
      "22         melissa_taxi                  \n",
      "23           michael_db                  \n",
      "24         michael_taxi                  \n",
      "25             miraj_db                  \n",
      "26           miraj_taxi                  \n",
      "27                my_db                  \n",
      "28           shaswat_db                  \n",
      "29         shaswat_logs                  \n",
      "30         shaswat_song                  \n",
      "31         shaswat_taxi                  \n",
      "32          suchitha_db                  \n",
      "33        suchitha_taxi                  \n",
      "34            tatwan_db                  \n",
      "35  tatwan_inclass_demo                  \n",
      "36          tatwan_taxi                  \n",
      "37             tyler_db                  \n",
      "38           tyler_taxi                  \n"
     ]
    }
   ],
   "source": [
    "databases = wr.catalog.databases()\n",
    "print(databases)"
   ]
  },
  {
   "cell_type": "markdown",
   "id": "41c81529",
   "metadata": {},
   "source": [
    "#### Creating a database"
   ]
  },
  {
   "cell_type": "code",
   "execution_count": 7,
   "id": "72c24bcf",
   "metadata": {},
   "outputs": [],
   "source": [
    "name = 'fabiola'\n",
    "database_name = f\"{name}_db\"\n",
    "#wr.catalog.create_database(database_name)"
   ]
  },
  {
   "cell_type": "code",
   "execution_count": 8,
   "id": "4c13fd53",
   "metadata": {},
   "outputs": [
    {
     "name": "stdout",
     "output_type": "stream",
     "text": [
      "               Database       Description\n",
      "0             aamnah_db                  \n",
      "1           aamnah_taxi                  \n",
      "2             alexia_db                  \n",
      "3           alexia_logs                  \n",
      "4           alexia_song                  \n",
      "5      awswrangler_test                  \n",
      "6                ben_db                  \n",
      "7              ben_song                  \n",
      "8              ben_taxi                  \n",
      "9            blake_taxi                  \n",
      "10          blake_wr_db                  \n",
      "11              db_name                  \n",
      "12              default  default database\n",
      "13              emma_db                  \n",
      "14            emma_taxi                  \n",
      "15           fabiola_db                  \n",
      "16         fabiola_taxi                  \n",
      "17           jaden_taxi                  \n",
      "18        jadenastle_db                  \n",
      "19           melissa_db                  \n",
      "20         melissa_logs                  \n",
      "21        melissa_songs                  \n",
      "22         melissa_taxi                  \n",
      "23           michael_db                  \n",
      "24         michael_taxi                  \n",
      "25             miraj_db                  \n",
      "26           miraj_taxi                  \n",
      "27                my_db                  \n",
      "28           shaswat_db                  \n",
      "29         shaswat_logs                  \n",
      "30         shaswat_song                  \n",
      "31         shaswat_taxi                  \n",
      "32          suchitha_db                  \n",
      "33        suchitha_taxi                  \n",
      "34            tatwan_db                  \n",
      "35  tatwan_inclass_demo                  \n",
      "36          tatwan_taxi                  \n",
      "37             tyler_db                  \n",
      "38           tyler_taxi                  \n"
     ]
    }
   ],
   "source": [
    "# confirm new database\n",
    "databases = wr.catalog.databases()\n",
    "print(databases)"
   ]
  },
  {
   "cell_type": "code",
   "execution_count": 9,
   "id": "e6eefc54",
   "metadata": {},
   "outputs": [
    {
     "data": {
      "text/html": [
       "<div>\n",
       "<style scoped>\n",
       "    .dataframe tbody tr th:only-of-type {\n",
       "        vertical-align: middle;\n",
       "    }\n",
       "\n",
       "    .dataframe tbody tr th {\n",
       "        vertical-align: top;\n",
       "    }\n",
       "\n",
       "    .dataframe thead th {\n",
       "        text-align: right;\n",
       "    }\n",
       "</style>\n",
       "<table border=\"1\" class=\"dataframe\">\n",
       "  <thead>\n",
       "    <tr style=\"text-align: right;\">\n",
       "      <th></th>\n",
       "      <th>Database</th>\n",
       "      <th>Table</th>\n",
       "      <th>Description</th>\n",
       "      <th>TableType</th>\n",
       "      <th>Columns</th>\n",
       "      <th>Partitions</th>\n",
       "    </tr>\n",
       "  </thead>\n",
       "  <tbody>\n",
       "    <tr>\n",
       "      <th>0</th>\n",
       "      <td>fabiola_db</td>\n",
       "      <td>fabiola_stock</td>\n",
       "      <td>This is my stock table.</td>\n",
       "      <td>EXTERNAL_TABLE</td>\n",
       "      <td>date, open, high, low, close, volume</td>\n",
       "      <td></td>\n",
       "    </tr>\n",
       "  </tbody>\n",
       "</table>\n",
       "</div>"
      ],
      "text/plain": [
       "     Database          Table              Description       TableType  \\\n",
       "0  fabiola_db  fabiola_stock  This is my stock table.  EXTERNAL_TABLE   \n",
       "\n",
       "                                Columns Partitions  \n",
       "0  date, open, high, low, close, volume             "
      ]
     },
     "execution_count": 9,
     "metadata": {},
     "output_type": "execute_result"
    }
   ],
   "source": [
    "# check tables in new database\n",
    "wr.catalog.tables(database=database_name)"
   ]
  },
  {
   "cell_type": "markdown",
   "id": "e37f58bd",
   "metadata": {},
   "source": [
    "#### Writing to database"
   ]
  },
  {
   "cell_type": "code",
   "execution_count": 10,
   "id": "59fb2514",
   "metadata": {},
   "outputs": [
    {
     "data": {
      "text/plain": [
       "{'paths': ['s3://techcatalyst-raw/fabiola/cb6ef340d3e642efa80e014a49abe2d4.snappy.parquet'],\n",
       " 'partitions_values': {}}"
      ]
     },
     "execution_count": 10,
     "metadata": {},
     "output_type": "execute_result"
    }
   ],
   "source": [
    "# write parquet file to database\n",
    "wr.s3.to_parquet(\n",
    "    df=df, # the DataFrame you just created \n",
    "    path=f\"s3://techcatalyst-raw/{name}/\", # write to the techcatalyst-raw bucket under your folder name (or it would create a new folder if it does not exist)\n",
    "    dataset=True, \n",
    "    database=database_name, # the name of the database you just created in AWS Glue \n",
    "    table= 'fabiola_stock', # pick a table name for example YOURNAME_STOCK\n",
    "    mode='overwrite'\n",
    "    )"
   ]
  },
  {
   "cell_type": "code",
   "execution_count": 11,
   "id": "139ade17",
   "metadata": {},
   "outputs": [
    {
     "data": {
      "text/html": [
       "<div>\n",
       "<style scoped>\n",
       "    .dataframe tbody tr th:only-of-type {\n",
       "        vertical-align: middle;\n",
       "    }\n",
       "\n",
       "    .dataframe tbody tr th {\n",
       "        vertical-align: top;\n",
       "    }\n",
       "\n",
       "    .dataframe thead th {\n",
       "        text-align: right;\n",
       "    }\n",
       "</style>\n",
       "<table border=\"1\" class=\"dataframe\">\n",
       "  <thead>\n",
       "    <tr style=\"text-align: right;\">\n",
       "      <th></th>\n",
       "      <th>Database</th>\n",
       "      <th>Table</th>\n",
       "      <th>Description</th>\n",
       "      <th>TableType</th>\n",
       "      <th>Columns</th>\n",
       "      <th>Partitions</th>\n",
       "    </tr>\n",
       "  </thead>\n",
       "  <tbody>\n",
       "    <tr>\n",
       "      <th>0</th>\n",
       "      <td>aamnah_db</td>\n",
       "      <td>aamnah_stock</td>\n",
       "      <td>This is my stock table.</td>\n",
       "      <td>EXTERNAL_TABLE</td>\n",
       "      <td>date, open, high, low, close, volume</td>\n",
       "      <td></td>\n",
       "    </tr>\n",
       "    <tr>\n",
       "      <th>1</th>\n",
       "      <td>alexia_db</td>\n",
       "      <td>alexia_stock</td>\n",
       "      <td></td>\n",
       "      <td>EXTERNAL_TABLE</td>\n",
       "      <td>date, open, high, low, close, volume</td>\n",
       "      <td></td>\n",
       "    </tr>\n",
       "    <tr>\n",
       "      <th>2</th>\n",
       "      <td>ben_db</td>\n",
       "      <td>ben_stock</td>\n",
       "      <td>This is my stock table.</td>\n",
       "      <td>EXTERNAL_TABLE</td>\n",
       "      <td>date, open, high, low, close, volume</td>\n",
       "      <td></td>\n",
       "    </tr>\n",
       "    <tr>\n",
       "      <th>3</th>\n",
       "      <td>blake_wr_db</td>\n",
       "      <td>blake_stock</td>\n",
       "      <td>This is my stock table.</td>\n",
       "      <td>EXTERNAL_TABLE</td>\n",
       "      <td>date, open, high, low, close, volume</td>\n",
       "      <td></td>\n",
       "    </tr>\n",
       "    <tr>\n",
       "      <th>4</th>\n",
       "      <td>emma_db</td>\n",
       "      <td>emma_stock</td>\n",
       "      <td>This is my stock table.</td>\n",
       "      <td>EXTERNAL_TABLE</td>\n",
       "      <td>date, open, high, low, close, volume</td>\n",
       "      <td></td>\n",
       "    </tr>\n",
       "    <tr>\n",
       "      <th>5</th>\n",
       "      <td>fabiola_db</td>\n",
       "      <td>fabiola_stock</td>\n",
       "      <td></td>\n",
       "      <td>EXTERNAL_TABLE</td>\n",
       "      <td>date, open, high, low, close, volume</td>\n",
       "      <td></td>\n",
       "    </tr>\n",
       "    <tr>\n",
       "      <th>6</th>\n",
       "      <td>jadenastle_db</td>\n",
       "      <td>jaden_stock</td>\n",
       "      <td>This is my stock table.</td>\n",
       "      <td>EXTERNAL_TABLE</td>\n",
       "      <td>date, open, high, low, close, volume</td>\n",
       "      <td></td>\n",
       "    </tr>\n",
       "    <tr>\n",
       "      <th>7</th>\n",
       "      <td>melissa_db</td>\n",
       "      <td>melissa_stocks</td>\n",
       "      <td>This is my stock table.</td>\n",
       "      <td>EXTERNAL_TABLE</td>\n",
       "      <td>date, open, high, low, close, volume</td>\n",
       "      <td></td>\n",
       "    </tr>\n",
       "    <tr>\n",
       "      <th>8</th>\n",
       "      <td>michael_db</td>\n",
       "      <td>michael_stock</td>\n",
       "      <td>This is my stock table.</td>\n",
       "      <td>EXTERNAL_TABLE</td>\n",
       "      <td>date, open, high, low, close, volume</td>\n",
       "      <td></td>\n",
       "    </tr>\n",
       "    <tr>\n",
       "      <th>9</th>\n",
       "      <td>miraj_db</td>\n",
       "      <td>miraj_google_stock</td>\n",
       "      <td>This is my stock table.</td>\n",
       "      <td>EXTERNAL_TABLE</td>\n",
       "      <td>date, open, high, low, close, volume</td>\n",
       "      <td></td>\n",
       "    </tr>\n",
       "    <tr>\n",
       "      <th>10</th>\n",
       "      <td>shaswat_db</td>\n",
       "      <td>shaswat_stock</td>\n",
       "      <td>This is my stock table.</td>\n",
       "      <td>EXTERNAL_TABLE</td>\n",
       "      <td>date, open, high, low, close, volume</td>\n",
       "      <td></td>\n",
       "    </tr>\n",
       "    <tr>\n",
       "      <th>11</th>\n",
       "      <td>suchitha_db</td>\n",
       "      <td>suchitha_stock</td>\n",
       "      <td>This is my stock table.</td>\n",
       "      <td>EXTERNAL_TABLE</td>\n",
       "      <td>date, open, high, low, close, volume</td>\n",
       "      <td></td>\n",
       "    </tr>\n",
       "    <tr>\n",
       "      <th>12</th>\n",
       "      <td>tatwan_db</td>\n",
       "      <td>tatwan_stock</td>\n",
       "      <td>This is my stock table.</td>\n",
       "      <td>EXTERNAL_TABLE</td>\n",
       "      <td>date, open, high, low, close, volume</td>\n",
       "      <td></td>\n",
       "    </tr>\n",
       "    <tr>\n",
       "      <th>13</th>\n",
       "      <td>tatwan_inclass_demo</td>\n",
       "      <td>tatwan_goog_stock</td>\n",
       "      <td></td>\n",
       "      <td>EXTERNAL_TABLE</td>\n",
       "      <td>date, open, high, low, close, volume</td>\n",
       "      <td></td>\n",
       "    </tr>\n",
       "    <tr>\n",
       "      <th>14</th>\n",
       "      <td>tyler_db</td>\n",
       "      <td>tyler_stock</td>\n",
       "      <td>This is my stock table.</td>\n",
       "      <td>EXTERNAL_TABLE</td>\n",
       "      <td>date, open, high, low, close, volume</td>\n",
       "      <td></td>\n",
       "    </tr>\n",
       "  </tbody>\n",
       "</table>\n",
       "</div>"
      ],
      "text/plain": [
       "               Database               Table              Description  \\\n",
       "0             aamnah_db        aamnah_stock  This is my stock table.   \n",
       "1             alexia_db        alexia_stock                            \n",
       "2                ben_db           ben_stock  This is my stock table.   \n",
       "3           blake_wr_db         blake_stock  This is my stock table.   \n",
       "4               emma_db          emma_stock  This is my stock table.   \n",
       "5            fabiola_db       fabiola_stock                            \n",
       "6         jadenastle_db         jaden_stock  This is my stock table.   \n",
       "7            melissa_db      melissa_stocks  This is my stock table.   \n",
       "8            michael_db       michael_stock  This is my stock table.   \n",
       "9              miraj_db  miraj_google_stock  This is my stock table.   \n",
       "10           shaswat_db       shaswat_stock  This is my stock table.   \n",
       "11          suchitha_db      suchitha_stock  This is my stock table.   \n",
       "12            tatwan_db        tatwan_stock  This is my stock table.   \n",
       "13  tatwan_inclass_demo   tatwan_goog_stock                            \n",
       "14             tyler_db         tyler_stock  This is my stock table.   \n",
       "\n",
       "         TableType                               Columns Partitions  \n",
       "0   EXTERNAL_TABLE  date, open, high, low, close, volume             \n",
       "1   EXTERNAL_TABLE  date, open, high, low, close, volume             \n",
       "2   EXTERNAL_TABLE  date, open, high, low, close, volume             \n",
       "3   EXTERNAL_TABLE  date, open, high, low, close, volume             \n",
       "4   EXTERNAL_TABLE  date, open, high, low, close, volume             \n",
       "5   EXTERNAL_TABLE  date, open, high, low, close, volume             \n",
       "6   EXTERNAL_TABLE  date, open, high, low, close, volume             \n",
       "7   EXTERNAL_TABLE  date, open, high, low, close, volume             \n",
       "8   EXTERNAL_TABLE  date, open, high, low, close, volume             \n",
       "9   EXTERNAL_TABLE  date, open, high, low, close, volume             \n",
       "10  EXTERNAL_TABLE  date, open, high, low, close, volume             \n",
       "11  EXTERNAL_TABLE  date, open, high, low, close, volume             \n",
       "12  EXTERNAL_TABLE  date, open, high, low, close, volume             \n",
       "13  EXTERNAL_TABLE  date, open, high, low, close, volume             \n",
       "14  EXTERNAL_TABLE  date, open, high, low, close, volume             "
      ]
     },
     "execution_count": 11,
     "metadata": {},
     "output_type": "execute_result"
    }
   ],
   "source": [
    "# verify\n",
    "wr.catalog.tables(name_contains=\"stock\")"
   ]
  },
  {
   "cell_type": "markdown",
   "id": "572289c3",
   "metadata": {},
   "source": [
    "#### Read table as df from database"
   ]
  },
  {
   "cell_type": "code",
   "execution_count": 12,
   "id": "81bf3b83",
   "metadata": {},
   "outputs": [
    {
     "data": {
      "text/html": [
       "<div>\n",
       "<style scoped>\n",
       "    .dataframe tbody tr th:only-of-type {\n",
       "        vertical-align: middle;\n",
       "    }\n",
       "\n",
       "    .dataframe tbody tr th {\n",
       "        vertical-align: top;\n",
       "    }\n",
       "\n",
       "    .dataframe thead th {\n",
       "        text-align: right;\n",
       "    }\n",
       "</style>\n",
       "<table border=\"1\" class=\"dataframe\">\n",
       "  <thead>\n",
       "    <tr style=\"text-align: right;\">\n",
       "      <th></th>\n",
       "      <th>date</th>\n",
       "      <th>open</th>\n",
       "      <th>high</th>\n",
       "      <th>low</th>\n",
       "      <th>close</th>\n",
       "      <th>volume</th>\n",
       "    </tr>\n",
       "  </thead>\n",
       "  <tbody>\n",
       "    <tr>\n",
       "      <th>0</th>\n",
       "      <td>1/2/2025 16:00:00</td>\n",
       "      <td>191.49</td>\n",
       "      <td>193.20</td>\n",
       "      <td>188.71</td>\n",
       "      <td>190.63</td>\n",
       "      <td>17545162</td>\n",
       "    </tr>\n",
       "    <tr>\n",
       "      <th>1</th>\n",
       "      <td>1/3/2025 16:00:00</td>\n",
       "      <td>192.73</td>\n",
       "      <td>194.50</td>\n",
       "      <td>191.35</td>\n",
       "      <td>193.13</td>\n",
       "      <td>12874957</td>\n",
       "    </tr>\n",
       "    <tr>\n",
       "      <th>2</th>\n",
       "      <td>1/6/2025 16:00:00</td>\n",
       "      <td>195.15</td>\n",
       "      <td>199.56</td>\n",
       "      <td>195.06</td>\n",
       "      <td>197.96</td>\n",
       "      <td>19483323</td>\n",
       "    </tr>\n",
       "    <tr>\n",
       "      <th>3</th>\n",
       "      <td>1/7/2025 16:00:00</td>\n",
       "      <td>198.27</td>\n",
       "      <td>202.14</td>\n",
       "      <td>195.94</td>\n",
       "      <td>196.71</td>\n",
       "      <td>16966760</td>\n",
       "    </tr>\n",
       "    <tr>\n",
       "      <th>4</th>\n",
       "      <td>1/8/2025 16:00:00</td>\n",
       "      <td>193.95</td>\n",
       "      <td>197.64</td>\n",
       "      <td>193.75</td>\n",
       "      <td>195.39</td>\n",
       "      <td>14335341</td>\n",
       "    </tr>\n",
       "  </tbody>\n",
       "</table>\n",
       "</div>"
      ],
      "text/plain": [
       "                date    open    high     low   close    volume\n",
       "0  1/2/2025 16:00:00  191.49  193.20  188.71  190.63  17545162\n",
       "1  1/3/2025 16:00:00  192.73  194.50  191.35  193.13  12874957\n",
       "2  1/6/2025 16:00:00  195.15  199.56  195.06  197.96  19483323\n",
       "3  1/7/2025 16:00:00  198.27  202.14  195.94  196.71  16966760\n",
       "4  1/8/2025 16:00:00  193.95  197.64  193.75  195.39  14335341"
      ]
     },
     "execution_count": 12,
     "metadata": {},
     "output_type": "execute_result"
    }
   ],
   "source": [
    "df = wr.s3.read_parquet_table(database=database_name, \n",
    "                              table='fabiola_stock')\n",
    "\n",
    "# Display the DataFrame's first few rows\n",
    "df.head()"
   ]
  },
  {
   "cell_type": "code",
   "execution_count": 13,
   "id": "18708f6f",
   "metadata": {},
   "outputs": [
    {
     "data": {
      "text/plain": [
       "{'date': 'string',\n",
       " 'open': 'double',\n",
       " 'high': 'double',\n",
       " 'low': 'double',\n",
       " 'close': 'double',\n",
       " 'volume': 'bigint'}"
      ]
     },
     "execution_count": 13,
     "metadata": {},
     "output_type": "execute_result"
    }
   ],
   "source": [
    "# column types\n",
    "wr.catalog.get_table_types(database=database_name, \n",
    "                           table='fabiola_stock')"
   ]
  },
  {
   "cell_type": "code",
   "execution_count": 14,
   "id": "d616c61b",
   "metadata": {},
   "outputs": [
    {
     "data": {
      "text/plain": [
       "{'Name': 'fabiola_stock',\n",
       " 'DatabaseName': 'fabiola_db',\n",
       " 'CreateTime': datetime.datetime(2025, 8, 4, 19, 50, 49, tzinfo=tzlocal()),\n",
       " 'UpdateTime': datetime.datetime(2025, 8, 5, 12, 23, 55, tzinfo=tzlocal()),\n",
       " 'Retention': 0,\n",
       " 'StorageDescriptor': {'Columns': [{'Name': 'date', 'Type': 'string'},\n",
       "   {'Name': 'open', 'Type': 'double'},\n",
       "   {'Name': 'high', 'Type': 'double'},\n",
       "   {'Name': 'low', 'Type': 'double'},\n",
       "   {'Name': 'close', 'Type': 'double'},\n",
       "   {'Name': 'volume', 'Type': 'bigint'}],\n",
       "  'Location': 's3://techcatalyst-raw/fabiola/',\n",
       "  'InputFormat': 'org.apache.hadoop.hive.ql.io.parquet.MapredParquetInputFormat',\n",
       "  'OutputFormat': 'org.apache.hadoop.hive.ql.io.parquet.MapredParquetOutputFormat',\n",
       "  'Compressed': True,\n",
       "  'NumberOfBuckets': -1,\n",
       "  'SerdeInfo': {'SerializationLibrary': 'org.apache.hadoop.hive.ql.io.parquet.serde.ParquetHiveSerDe',\n",
       "   'Parameters': {'serialization.format': '1'}},\n",
       "  'BucketColumns': [],\n",
       "  'SortColumns': [],\n",
       "  'Parameters': {'CrawlerSchemaDeserializerVersion': '1.0',\n",
       "   'compressionType': 'snappy',\n",
       "   'classification': 'parquet',\n",
       "   'typeOfData': 'file'},\n",
       "  'StoredAsSubDirectories': False},\n",
       " 'PartitionKeys': [],\n",
       " 'TableType': 'EXTERNAL_TABLE',\n",
       " 'Parameters': {'compressionType': 'snappy',\n",
       "  'classification': 'parquet',\n",
       "  'projection.enabled': 'false',\n",
       "  'typeOfData': 'file'},\n",
       " 'CreatedBy': 'arn:aws:iam::535146832369:user/Fabiola.Rojas',\n",
       " 'IsRegisteredWithLakeFormation': False,\n",
       " 'CatalogId': '535146832369',\n",
       " 'VersionId': '4',\n",
       " 'IsMultiDialectView': False}"
      ]
     },
     "execution_count": 14,
     "metadata": {},
     "output_type": "execute_result"
    }
   ],
   "source": [
    "# glue metadata\n",
    "table_details = wr.catalog.get_tables(database=database_name)\n",
    "\n",
    "next(table_details)"
   ]
  },
  {
   "cell_type": "code",
   "execution_count": 15,
   "id": "0b03099a",
   "metadata": {},
   "outputs": [
    {
     "data": {
      "text/plain": [
       "{'paths': ['s3://techcatalyst-raw/fabiola/4ce04d7cf0854cd9a18baec4f5baa980.snappy.parquet'],\n",
       " 'partitions_values': {}}"
      ]
     },
     "execution_count": 15,
     "metadata": {},
     "output_type": "execute_result"
    }
   ],
   "source": [
    "# Example adding additional metadata information \n",
    "\n",
    "desc = \"This is my stock table.\"\n",
    "param = {\"source\": \"Google\", \"class\": \"stock\"}\n",
    "comments = {\n",
    "    \"Date\": \"Trading Date\",\n",
    "    \"Open\": \"Opening Price\",\n",
    "    \"Close\": \"Closing Price\"\n",
    "}\n",
    "\n",
    "wr.s3.to_parquet(\n",
    "    df=df,\n",
    "    path=f\"s3://techcatalyst-raw/{name}/\",\n",
    "    dataset=True,\n",
    "    database=database_name,\n",
    "    table='fabiola_stock',\n",
    "    mode='overwrite',\n",
    "    glue_table_settings=wr.typing.GlueTableSettings(description=desc,  # here we are passing some metadata\n",
    "                                                    parameters=param, \n",
    "                                                    columns_comments=comments),\n",
    "    )"
   ]
  },
  {
   "cell_type": "code",
   "execution_count": 16,
   "id": "bcc0023e",
   "metadata": {},
   "outputs": [
    {
     "data": {
      "text/html": [
       "<div>\n",
       "<style scoped>\n",
       "    .dataframe tbody tr th:only-of-type {\n",
       "        vertical-align: middle;\n",
       "    }\n",
       "\n",
       "    .dataframe tbody tr th {\n",
       "        vertical-align: top;\n",
       "    }\n",
       "\n",
       "    .dataframe thead th {\n",
       "        text-align: right;\n",
       "    }\n",
       "</style>\n",
       "<table border=\"1\" class=\"dataframe\">\n",
       "  <thead>\n",
       "    <tr style=\"text-align: right;\">\n",
       "      <th></th>\n",
       "      <th>Column Name</th>\n",
       "      <th>Type</th>\n",
       "      <th>Partition</th>\n",
       "      <th>Comment</th>\n",
       "    </tr>\n",
       "  </thead>\n",
       "  <tbody>\n",
       "    <tr>\n",
       "      <th>0</th>\n",
       "      <td>date</td>\n",
       "      <td>string</td>\n",
       "      <td>False</td>\n",
       "      <td>Trading Date</td>\n",
       "    </tr>\n",
       "    <tr>\n",
       "      <th>1</th>\n",
       "      <td>open</td>\n",
       "      <td>double</td>\n",
       "      <td>False</td>\n",
       "      <td>Opening Price</td>\n",
       "    </tr>\n",
       "    <tr>\n",
       "      <th>2</th>\n",
       "      <td>high</td>\n",
       "      <td>double</td>\n",
       "      <td>False</td>\n",
       "      <td></td>\n",
       "    </tr>\n",
       "    <tr>\n",
       "      <th>3</th>\n",
       "      <td>low</td>\n",
       "      <td>double</td>\n",
       "      <td>False</td>\n",
       "      <td></td>\n",
       "    </tr>\n",
       "    <tr>\n",
       "      <th>4</th>\n",
       "      <td>close</td>\n",
       "      <td>double</td>\n",
       "      <td>False</td>\n",
       "      <td>Closing Price</td>\n",
       "    </tr>\n",
       "    <tr>\n",
       "      <th>5</th>\n",
       "      <td>volume</td>\n",
       "      <td>bigint</td>\n",
       "      <td>False</td>\n",
       "      <td></td>\n",
       "    </tr>\n",
       "  </tbody>\n",
       "</table>\n",
       "</div>"
      ],
      "text/plain": [
       "  Column Name    Type  Partition        Comment\n",
       "0        date  string      False   Trading Date\n",
       "1        open  double      False  Opening Price\n",
       "2        high  double      False               \n",
       "3         low  double      False               \n",
       "4       close  double      False  Closing Price\n",
       "5      volume  bigint      False               "
      ]
     },
     "execution_count": 16,
     "metadata": {},
     "output_type": "execute_result"
    }
   ],
   "source": [
    "wr.catalog.table(database=database_name, table='fabiola_stock')"
   ]
  },
  {
   "cell_type": "markdown",
   "id": "ca9ad310",
   "metadata": {},
   "source": [
    "#### List objects in bucket"
   ]
  },
  {
   "cell_type": "code",
   "execution_count": 17,
   "id": "8cf17fc1",
   "metadata": {},
   "outputs": [
    {
     "data": {
      "text/plain": [
       "['s3://techcatalyst-raw/stage/yellow_tripdata.csv',\n",
       " 's3://techcatalyst-raw/stage/yellow_tripdata.json',\n",
       " 's3://techcatalyst-raw/stage/yellow_tripdata.parquet']"
      ]
     },
     "execution_count": 17,
     "metadata": {},
     "output_type": "execute_result"
    }
   ],
   "source": [
    "wr.s3.list_objects('s3://techcatalyst-raw/stage/')"
   ]
  },
  {
   "cell_type": "markdown",
   "id": "64cf471f",
   "metadata": {},
   "source": [
    "#### Download file from S3"
   ]
  },
  {
   "cell_type": "code",
   "execution_count": 18,
   "id": "b7081bd7",
   "metadata": {},
   "outputs": [],
   "source": [
    "wr.s3.download(path='s3://techcatalyst-raw/stocks/GOOG.csv', \n",
    "               local_file='wr_GOOG.csv')"
   ]
  },
  {
   "cell_type": "markdown",
   "id": "d84bc6a3",
   "metadata": {},
   "source": [
    "#### Upload file to S3"
   ]
  },
  {
   "cell_type": "code",
   "execution_count": 19,
   "id": "de6af590",
   "metadata": {},
   "outputs": [],
   "source": [
    "your_name = 'fabiola'\n",
    "file_name = 'wr_GOOG.csv'\n",
    "wr.s3.upload(local_file='wr_GOOG.csv',path= f's3://techcatalyst-raw/{your_name}/uploads/{file_name}')"
   ]
  },
  {
   "cell_type": "code",
   "execution_count": 20,
   "id": "82f2b070",
   "metadata": {},
   "outputs": [
    {
     "data": {
      "text/plain": [
       "['s3://techcatalyst-raw/fabiola/uploads/wr_GOOG.csv']"
      ]
     },
     "execution_count": 20,
     "metadata": {},
     "output_type": "execute_result"
    }
   ],
   "source": [
    "wr.s3.list_objects(f's3://techcatalyst-raw/{your_name}/uploads/')"
   ]
  },
  {
   "cell_type": "markdown",
   "id": "616351f2",
   "metadata": {},
   "source": [
    "### Exercise (using Glue Catalog and Athena)"
   ]
  },
  {
   "cell_type": "markdown",
   "id": "66cd9a13",
   "metadata": {},
   "source": [
    "#### Define Configuration"
   ]
  },
  {
   "cell_type": "code",
   "execution_count": 21,
   "id": "df381323",
   "metadata": {},
   "outputs": [],
   "source": [
    "# A name for the new Glue Database it should be YOURNAME_TAXI\n",
    "db_name = 'fabiola_taxi'\n",
    "\n",
    "# A name for the table it should be YOURNAME_TRIPDATA\n",
    "table_name = 'fabiola_tripdata'\n",
    "\n",
    "# the path_direcoty to should point to the bucket (main directory)\n",
    "s3_path_directory = 's3://techcatalyst-raw/taxi_data/'\n",
    "\n",
    "# The path_file should be the full path to the actual file\n",
    "s3_path_file = 's3://techcatalyst-raw/taxi_data/yellow_tripdata_2024-01.parquet'\n"
   ]
  },
  {
   "cell_type": "markdown",
   "id": "b3134d65",
   "metadata": {},
   "source": [
    "#### Get the Schema from the Parquet File Metadata"
   ]
  },
  {
   "cell_type": "code",
   "execution_count": 22,
   "id": "f7e48c34",
   "metadata": {},
   "outputs": [
    {
     "name": "stdout",
     "output_type": "stream",
     "text": [
      "Successfully read schema from Parquet file.\n"
     ]
    }
   ],
   "source": [
    "# uncomment below if you ran into issues to clean things up and rerun the cell\n",
    "wr.catalog.delete_table_if_exists(database=db_name, table=table_name) \n",
    "\n",
    "# Create the new Glue database first based on the db_name you created\n",
    "#wr.catalog.create_database(db_name)\n",
    "\n",
    "# This function can extract the schema from our file and returns a tuple: (schema, partitions). We only need the schema. \n",
    "columns_types, partitions_types = wr.s3.read_parquet_metadata(path=s3_path_file)\n",
    "print(\"Successfully read schema from Parquet file.\")"
   ]
  },
  {
   "cell_type": "markdown",
   "id": "ef61bbd8",
   "metadata": {},
   "source": [
    "#### Create the Glue Table with the Explicit Schema"
   ]
  },
  {
   "cell_type": "code",
   "execution_count": 23,
   "id": "61d8adb0",
   "metadata": {},
   "outputs": [
    {
     "name": "stdout",
     "output_type": "stream",
     "text": [
      "Table 'fabiola_tripdata' created successfully in database 'fabiola_taxi'.\n"
     ]
    }
   ],
   "source": [
    "\n",
    "wr.catalog.create_parquet_table(\n",
    "    database=db_name, # pass the database name\n",
    "    table=table_name, # pass the table name\n",
    "    path=s3_path_directory, # use the directoy here \n",
    "    columns_types=columns_types,  # Pass the schema here\n",
    "    partitions_types=partitions_types\n",
    ")\n",
    "print(f\"Table '{table_name}' created successfully in database '{db_name}'.\")"
   ]
  },
  {
   "cell_type": "code",
   "execution_count": 24,
   "id": "80d5fcf6",
   "metadata": {},
   "outputs": [
    {
     "name": "stdout",
     "output_type": "stream",
     "text": [
      "\n",
      "Query Results:\n",
      "   vendorid tpep_pickup_datetime tpep_dropoff_datetime  passenger_count  \\\n",
      "0         2  2024-04-03 17:49:47   2024-04-03 18:39:29              NaN   \n",
      "1         2  2024-04-03 17:01:56   2024-04-03 17:31:43              NaN   \n",
      "2         2  2024-04-03 17:42:09   2024-04-03 17:42:57              NaN   \n",
      "3         2  2024-04-03 17:58:05   2024-04-03 18:04:41              NaN   \n",
      "4         2  2024-04-03 17:27:15   2024-04-03 17:58:46              NaN   \n",
      "\n",
      "   trip_distance  ratecodeid store_and_fwd_flag  pulocationid  dolocationid  \\\n",
      "0           3.77         NaN               <NA>           236           234   \n",
      "1           3.32         NaN               <NA>            87           186   \n",
      "2           0.00         NaN               <NA>           246           246   \n",
      "3           0.70         NaN               <NA>           233           233   \n",
      "4           4.63         NaN               <NA>           237           246   \n",
      "\n",
      "   payment_type  fare_amount  extra  mta_tax  tip_amount  tolls_amount  \\\n",
      "0             0        35.71    0.0      0.5        0.00           0.0   \n",
      "1             0        35.56    0.0      0.5        0.00           0.0   \n",
      "2             0        14.22    0.0      0.5        3.64           0.0   \n",
      "3             0        14.22    0.0      0.5        2.73           0.0   \n",
      "4             0        31.38    0.0      0.5        0.00           0.0   \n",
      "\n",
      "   improvement_surcharge  total_amount  congestion_surcharge  airport_fee  \n",
      "0                    1.0         39.71                   NaN          NaN  \n",
      "1                    1.0         39.56                   NaN          NaN  \n",
      "2                    1.0         21.86                   NaN          NaN  \n",
      "3                    1.0         20.95                   NaN          NaN  \n",
      "4                    1.0         35.38                   NaN          NaN  \n"
     ]
    }
   ],
   "source": [
    "query = f\"SELECT * FROM {table_name} LIMIT 5\"\n",
    "\n",
    "df = wr.athena.read_sql_query(query, database=db_name)\n",
    "\n",
    "print(\"\\nQuery Results:\")\n",
    "print(df)"
   ]
  },
  {
   "cell_type": "code",
   "execution_count": null,
   "id": "62199946",
   "metadata": {},
   "outputs": [],
   "source": []
  }
 ],
 "metadata": {
  "kernelspec": {
   "display_name": "dev6",
   "language": "python",
   "name": "python3"
  },
  "language_info": {
   "codemirror_mode": {
    "name": "ipython",
    "version": 3
   },
   "file_extension": ".py",
   "mimetype": "text/x-python",
   "name": "python",
   "nbconvert_exporter": "python",
   "pygments_lexer": "ipython3",
   "version": "3.12.1"
  }
 },
 "nbformat": 4,
 "nbformat_minor": 5
}
