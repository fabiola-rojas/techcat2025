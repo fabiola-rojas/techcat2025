{
 "cells": [
  {
   "cell_type": "markdown",
   "id": "b304ae87",
   "metadata": {},
   "source": [
    "## Lab 3: Introduction to AWS Wrangler"
   ]
  }
 ],
 "metadata": {
  "language_info": {
   "name": "python"
  }
 },
 "nbformat": 4,
 "nbformat_minor": 5
}
