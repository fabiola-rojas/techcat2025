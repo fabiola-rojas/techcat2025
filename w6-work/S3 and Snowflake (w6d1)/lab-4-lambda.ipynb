{
 "cells": [
  {
   "cell_type": "markdown",
   "id": "8d013fd5",
   "metadata": {},
   "source": [
    "## Lab 4: Hands-on – triggering an AWS Lambda function when a new file arrives in an S3 bucket"
   ]
  },
  {
   "cell_type": "code",
   "execution_count": 1,
   "id": "c06190f0",
   "metadata": {},
   "outputs": [
    {
     "data": {
      "text/plain": [
       "True"
      ]
     },
     "execution_count": 1,
     "metadata": {},
     "output_type": "execute_result"
    }
   ],
   "source": [
    "from dotenv import load_dotenv\n",
    "load_dotenv('../.env')"
   ]
  },
  {
   "cell_type": "code",
   "execution_count": 2,
   "id": "d0f30877",
   "metadata": {},
   "outputs": [],
   "source": [
    "# using Boto3 S3 client api\n",
    "import boto3\n",
    "import os\n",
    "\n",
    "s3_client = boto3.client('s3')"
   ]
  },
  {
   "cell_type": "code",
   "execution_count": 32,
   "id": "cdc40fde",
   "metadata": {},
   "outputs": [],
   "source": [
    "# uploading a local file using upload_file\n",
    "s3_client.upload_file(Filename='test.csv', # local file name\n",
    "                      Bucket='techcatalyst-raw', # the bucket target\n",
    "                      Key='fabiola/test.csv') # destination name"
   ]
  },
  {
   "cell_type": "code",
   "execution_count": 33,
   "id": "3b280eb0",
   "metadata": {},
   "outputs": [
    {
     "data": {
      "text/plain": [
       "[{'Key': 'fabiola/a3a03886216d40279ccfca68cc237524.snappy.parquet',\n",
       "  'LastModified': datetime.datetime(2025, 8, 4, 19, 58, 34, tzinfo=tzlocal()),\n",
       "  'ETag': '\"d24428517841e34980e5f55aa74a0ed5\"',\n",
       "  'ChecksumAlgorithm': ['CRC32'],\n",
       "  'ChecksumType': 'FULL_OBJECT',\n",
       "  'Size': 9146,\n",
       "  'StorageClass': 'STANDARD'},\n",
       " {'Key': 'fabiola/test.csv',\n",
       "  'LastModified': datetime.datetime(2025, 8, 4, 21, 50, 16, tzinfo=tzlocal()),\n",
       "  'ETag': '\"53403c54c17ae923846ef2498ca5bf84\"',\n",
       "  'ChecksumAlgorithm': ['CRC32'],\n",
       "  'ChecksumType': 'FULL_OBJECT',\n",
       "  'Size': 326,\n",
       "  'StorageClass': 'STANDARD'},\n",
       " {'Key': 'fabiola/uploads/wr_GOOG.csv',\n",
       "  'LastModified': datetime.datetime(2025, 8, 4, 20, 4, 55, tzinfo=tzlocal()),\n",
       "  'ETag': '\"8cbbdc687ee45f1fe58a522e16d423c2\"',\n",
       "  'ChecksumAlgorithm': ['CRC32'],\n",
       "  'ChecksumType': 'FULL_OBJECT',\n",
       "  'Size': 7889,\n",
       "  'StorageClass': 'STANDARD'}]"
      ]
     },
     "execution_count": 33,
     "metadata": {},
     "output_type": "execute_result"
    }
   ],
   "source": [
    "# list objects in a specific bucket \"techcatalyst-raw\" with prefix \"fabiola\"\n",
    "objects = s3_client.list_objects_v2(Bucket='techcatalyst-raw', Prefix='fabiola')\n",
    "objects.get('Contents')"
   ]
  },
  {
   "cell_type": "code",
   "execution_count": 34,
   "id": "f02c4a92",
   "metadata": {},
   "outputs": [
    {
     "data": {
      "text/plain": [
       "[{'Key': 'fabiola/test.parquet',\n",
       "  'LastModified': datetime.datetime(2025, 8, 4, 21, 33, 40, tzinfo=tzlocal()),\n",
       "  'ETag': '\"1d428debbe79448b021e6c0965cbf490\"',\n",
       "  'ChecksumAlgorithm': ['CRC32'],\n",
       "  'ChecksumType': 'FULL_OBJECT',\n",
       "  'Size': 2053,\n",
       "  'StorageClass': 'STANDARD'}]"
      ]
     },
     "execution_count": 34,
     "metadata": {},
     "output_type": "execute_result"
    }
   ],
   "source": [
    "# list objects in a specific bucket \"techcatalyst-raw\" with prefix \"fabiola\"\n",
    "objects = s3_client.list_objects_v2(Bucket='techcatalyst-public', Prefix='fabiola')\n",
    "objects.get('Contents')"
   ]
  },
  {
   "cell_type": "code",
   "execution_count": null,
   "id": "a81971a9",
   "metadata": {},
   "outputs": [],
   "source": []
  }
 ],
 "metadata": {
  "kernelspec": {
   "display_name": "dev6",
   "language": "python",
   "name": "python3"
  },
  "language_info": {
   "codemirror_mode": {
    "name": "ipython",
    "version": 3
   },
   "file_extension": ".py",
   "mimetype": "text/x-python",
   "name": "python",
   "nbconvert_exporter": "python",
   "pygments_lexer": "ipython3",
   "version": "3.12.1"
  }
 },
 "nbformat": 4,
 "nbformat_minor": 5
}
